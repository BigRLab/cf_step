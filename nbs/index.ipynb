{
 "cells": [
  {
   "cell_type": "code",
   "execution_count": 1,
   "metadata": {
    "ExecuteTime": {
     "end_time": "2020-02-12T06:25:59.342976Z",
     "start_time": "2020-02-12T06:25:58.804619Z"
    }
   },
   "outputs": [],
   "source": [
    "# hide\n",
    "import os\n",
    "import torch\n",
    "import numpy as np\n",
    "import pandas as pd\n",
    "import torch.nn as nn\n",
    "import matplotlib.pyplot as plt\n",
    "\n",
    "from tqdm import tqdm\n",
    "from torch.optim import SGD\n",
    "from torch.utils.data import Dataset\n",
    "from torch.utils.data import DataLoader\n",
    "\n",
    "from cf_step.step import Step\n",
    "from cf_step.networks import SimpleCF\n",
    "from cf_step.metrics import recall_at_k, precision_at_k\n",
    "from cf_step.utils import moving_avg"
   ]
  },
  {
   "cell_type": "code",
   "execution_count": 2,
   "metadata": {
    "ExecuteTime": {
     "end_time": "2020-02-12T06:25:59.365525Z",
     "start_time": "2020-02-12T06:25:59.345253Z"
    }
   },
   "outputs": [],
   "source": [
    "# hide\n",
    "%load_ext autoreload\n",
    "%autoreload 2\n",
    "\n",
    "%matplotlib inline"
   ]
  },
  {
   "cell_type": "markdown",
   "metadata": {},
   "source": [
    "# CF STEP - Incremental Collaborative Filtering\n",
    "\n",
    "> Incremental learning for recommender systems"
   ]
  },
  {
   "cell_type": "markdown",
   "metadata": {},
   "source": [
    "CF STEP is an open-source library, written in python, that enables fast implementation of incremental learning recommender systems. The library is a by-product of the reasearch project [CloudDBAppliance](https://clouddb.eu/)."
   ]
  },
  {
   "cell_type": "markdown",
   "metadata": {},
   "source": [
    "## Install"
   ]
  },
  {
   "cell_type": "markdown",
   "metadata": {},
   "source": [
    "Run `pip install cf-step` to install the library in your environment."
   ]
  },
  {
   "cell_type": "markdown",
   "metadata": {},
   "source": [
    "## How to use"
   ]
  },
  {
   "cell_type": "markdown",
   "metadata": {},
   "source": [
    "For this example, we will use the popular [movielens](https://grouplens.org/datasets/movielens/) dataset. The dataset has collected and made available rating data sets from the [MovieLens](http://movielens.org) web site. The data sets were collected over various periods of time, depending on the size of the set.\n",
    "\n",
    "First let us load the data in a pandas `DataFrame`. We assume that the reader has downloaded the 1m movielense dataset and have unziped it in the `/tmp` folder.\n",
    "\n",
    "> To avoid creating a user and movie vocabularies we turn each user and movie to a categorical feature and use the pandas convenient cat attribute to get the codes"
   ]
  },
  {
   "cell_type": "code",
   "execution_count": 3,
   "metadata": {
    "ExecuteTime": {
     "end_time": "2020-02-12T06:26:02.978641Z",
     "start_time": "2020-02-12T06:25:59.366884Z"
    }
   },
   "outputs": [
    {
     "data": {
      "text/html": [
       "<div>\n",
       "<style scoped>\n",
       "    .dataframe tbody tr th:only-of-type {\n",
       "        vertical-align: middle;\n",
       "    }\n",
       "\n",
       "    .dataframe tbody tr th {\n",
       "        vertical-align: top;\n",
       "    }\n",
       "\n",
       "    .dataframe thead th {\n",
       "        text-align: right;\n",
       "    }\n",
       "</style>\n",
       "<table border=\"1\" class=\"dataframe\">\n",
       "  <thead>\n",
       "    <tr style=\"text-align: right;\">\n",
       "      <th></th>\n",
       "      <th>user_id</th>\n",
       "      <th>movie_id</th>\n",
       "      <th>rating</th>\n",
       "      <th>timestamp</th>\n",
       "      <th>user_code</th>\n",
       "      <th>movie_code</th>\n",
       "    </tr>\n",
       "  </thead>\n",
       "  <tbody>\n",
       "    <tr>\n",
       "      <th>0</th>\n",
       "      <td>1</td>\n",
       "      <td>1193</td>\n",
       "      <td>5</td>\n",
       "      <td>978300760</td>\n",
       "      <td>0</td>\n",
       "      <td>1104</td>\n",
       "    </tr>\n",
       "    <tr>\n",
       "      <th>1</th>\n",
       "      <td>1</td>\n",
       "      <td>661</td>\n",
       "      <td>3</td>\n",
       "      <td>978302109</td>\n",
       "      <td>0</td>\n",
       "      <td>639</td>\n",
       "    </tr>\n",
       "    <tr>\n",
       "      <th>2</th>\n",
       "      <td>1</td>\n",
       "      <td>914</td>\n",
       "      <td>3</td>\n",
       "      <td>978301968</td>\n",
       "      <td>0</td>\n",
       "      <td>853</td>\n",
       "    </tr>\n",
       "    <tr>\n",
       "      <th>3</th>\n",
       "      <td>1</td>\n",
       "      <td>3408</td>\n",
       "      <td>4</td>\n",
       "      <td>978300275</td>\n",
       "      <td>0</td>\n",
       "      <td>3177</td>\n",
       "    </tr>\n",
       "    <tr>\n",
       "      <th>4</th>\n",
       "      <td>1</td>\n",
       "      <td>2355</td>\n",
       "      <td>5</td>\n",
       "      <td>978824291</td>\n",
       "      <td>0</td>\n",
       "      <td>2162</td>\n",
       "    </tr>\n",
       "  </tbody>\n",
       "</table>\n",
       "</div>"
      ],
      "text/plain": [
       "  user_id movie_id  rating  timestamp  user_code  movie_code\n",
       "0       1     1193       5  978300760          0        1104\n",
       "1       1      661       3  978302109          0         639\n",
       "2       1      914       3  978301968          0         853\n",
       "3       1     3408       4  978300275          0        3177\n",
       "4       1     2355       5  978824291          0        2162"
      ]
     },
     "execution_count": 3,
     "metadata": {},
     "output_type": "execute_result"
    }
   ],
   "source": [
    "# local\n",
    "\n",
    "# load the data\n",
    "col_names = ['user_id', 'movie_id', 'rating', 'timestamp']\n",
    "ratings_df = pd.read_csv('/tmp/ratings.dat', delimiter='::', names=col_names, engine='python')\n",
    "\n",
    "# transform users and movies to categorical features\n",
    "ratings_df['user_id'] = ratings_df['user_id'].astype('category')\n",
    "ratings_df['movie_id'] = ratings_df['movie_id'].astype('category')\n",
    "\n",
    "# use the codes to avoid creating separate vocabularies\n",
    "ratings_df['user_code'] = ratings_df['user_id'].cat.codes.astype(int)\n",
    "ratings_df['movie_code'] = ratings_df['movie_id'].cat.codes.astype(int)\n",
    "\n",
    "ratings_df.head()"
   ]
  },
  {
   "cell_type": "markdown",
   "metadata": {},
   "source": [
    "Using the codes we can see how many users and movies are in the dataset."
   ]
  },
  {
   "cell_type": "code",
   "execution_count": 4,
   "metadata": {
    "ExecuteTime": {
     "end_time": "2020-02-12T06:26:02.990466Z",
     "start_time": "2020-02-12T06:26:02.979644Z"
    }
   },
   "outputs": [
    {
     "name": "stdout",
     "output_type": "stream",
     "text": [
      "There are 6040 unique users and 3706 unique movies in the movielens dataset.\n"
     ]
    }
   ],
   "source": [
    "# local\n",
    "n_users = ratings_df['user_code'].max() + 1\n",
    "n_movies = ratings_df['movie_code'].max() + 1\n",
    "\n",
    "print(f'There are {n_users} unique users and {n_movies} unique movies in the movielens dataset.')"
   ]
  },
  {
   "cell_type": "markdown",
   "metadata": {},
   "source": [
    "We will sort the data by Timestamp so as to simulate streaming events."
   ]
  },
  {
   "cell_type": "code",
   "execution_count": 5,
   "metadata": {
    "ExecuteTime": {
     "end_time": "2020-02-12T06:26:03.101892Z",
     "start_time": "2020-02-12T06:26:02.991584Z"
    }
   },
   "outputs": [],
   "source": [
    "# local\n",
    "data_df = ratings_df.sort_values(by='timestamp')"
   ]
  },
  {
   "cell_type": "markdown",
   "metadata": {},
   "source": [
    "The `Step` model supports only positive feedback. Thus, we will consider a rating of 5 as positive feedback and discard any other. We want to identify likes with `1` and dislikes with `0`."
   ]
  },
  {
   "cell_type": "code",
   "execution_count": 6,
   "metadata": {
    "ExecuteTime": {
     "end_time": "2020-02-12T06:26:03.144045Z",
     "start_time": "2020-02-12T06:26:03.103005Z"
    }
   },
   "outputs": [
    {
     "data": {
      "text/html": [
       "<div>\n",
       "<style scoped>\n",
       "    .dataframe tbody tr th:only-of-type {\n",
       "        vertical-align: middle;\n",
       "    }\n",
       "\n",
       "    .dataframe tbody tr th {\n",
       "        vertical-align: top;\n",
       "    }\n",
       "\n",
       "    .dataframe thead th {\n",
       "        text-align: right;\n",
       "    }\n",
       "</style>\n",
       "<table border=\"1\" class=\"dataframe\">\n",
       "  <thead>\n",
       "    <tr style=\"text-align: right;\">\n",
       "      <th></th>\n",
       "      <th>user_id</th>\n",
       "      <th>movie_id</th>\n",
       "      <th>rating</th>\n",
       "      <th>timestamp</th>\n",
       "      <th>user_code</th>\n",
       "      <th>movie_code</th>\n",
       "      <th>preference</th>\n",
       "    </tr>\n",
       "  </thead>\n",
       "  <tbody>\n",
       "    <tr>\n",
       "      <th>999873</th>\n",
       "      <td>6040</td>\n",
       "      <td>593</td>\n",
       "      <td>5</td>\n",
       "      <td>956703954</td>\n",
       "      <td>6039</td>\n",
       "      <td>579</td>\n",
       "      <td>1</td>\n",
       "    </tr>\n",
       "    <tr>\n",
       "      <th>1000192</th>\n",
       "      <td>6040</td>\n",
       "      <td>2019</td>\n",
       "      <td>5</td>\n",
       "      <td>956703977</td>\n",
       "      <td>6039</td>\n",
       "      <td>1839</td>\n",
       "      <td>1</td>\n",
       "    </tr>\n",
       "    <tr>\n",
       "      <th>999920</th>\n",
       "      <td>6040</td>\n",
       "      <td>213</td>\n",
       "      <td>5</td>\n",
       "      <td>956704056</td>\n",
       "      <td>6039</td>\n",
       "      <td>207</td>\n",
       "      <td>1</td>\n",
       "    </tr>\n",
       "    <tr>\n",
       "      <th>999967</th>\n",
       "      <td>6040</td>\n",
       "      <td>3111</td>\n",
       "      <td>5</td>\n",
       "      <td>956704056</td>\n",
       "      <td>6039</td>\n",
       "      <td>2895</td>\n",
       "      <td>1</td>\n",
       "    </tr>\n",
       "    <tr>\n",
       "      <th>999971</th>\n",
       "      <td>6040</td>\n",
       "      <td>2503</td>\n",
       "      <td>5</td>\n",
       "      <td>956704191</td>\n",
       "      <td>6039</td>\n",
       "      <td>2309</td>\n",
       "      <td>1</td>\n",
       "    </tr>\n",
       "  </tbody>\n",
       "</table>\n",
       "</div>"
      ],
      "text/plain": [
       "        user_id movie_id  rating  timestamp  user_code  movie_code  preference\n",
       "999873     6040      593       5  956703954       6039         579           1\n",
       "1000192    6040     2019       5  956703977       6039        1839           1\n",
       "999920     6040      213       5  956704056       6039         207           1\n",
       "999967     6040     3111       5  956704056       6039        2895           1\n",
       "999971     6040     2503       5  956704191       6039        2309           1"
      ]
     },
     "execution_count": 6,
     "metadata": {},
     "output_type": "execute_result"
    }
   ],
   "source": [
    "# local\n",
    "# more than 4 -> 1, less than 5 -> 0\n",
    "data_df['preference'] = np.where(data_df['rating'] > 4, 1, 0)\n",
    "# keep only ones and discard the others\n",
    "data_df_cleaned = data_df.loc[data_df['preference'] == 1]\n",
    "\n",
    "data_df_cleaned.head()"
   ]
  },
  {
   "cell_type": "markdown",
   "metadata": {},
   "source": [
    "Following, let us initialize out model with a database connection. For everything else (e.g. `learning rate`, `optimizer`, `loss function` etc.) we will use the defaults."
   ]
  },
  {
   "cell_type": "code",
   "execution_count": 7,
   "metadata": {
    "ExecuteTime": {
     "end_time": "2020-02-12T06:26:03.257930Z",
     "start_time": "2020-02-12T06:26:03.145754Z"
    }
   },
   "outputs": [],
   "source": [
    "# local\n",
    "net = SimpleCF(n_users, n_movies, factors=1024, mean=0., std=.1)\n",
    "objective = lambda pred, targ: targ - pred\n",
    "optimizer = SGD(net.parameters(), lr=0.06)\n",
    "device = 'cuda' if torch.cuda.is_available() else 'cpu'\n",
    "\n",
    "model = Step(net, objective, optimizer, device=device)"
   ]
  },
  {
   "cell_type": "markdown",
   "metadata": {},
   "source": [
    "Finally, let us get 1% of the data to fit the model for bootstrapping and create the Pytorch Dataset that we will use."
   ]
  },
  {
   "cell_type": "code",
   "execution_count": 8,
   "metadata": {
    "ExecuteTime": {
     "end_time": "2020-02-12T06:26:03.267844Z",
     "start_time": "2020-02-12T06:26:03.259136Z"
    }
   },
   "outputs": [],
   "source": [
    "# local\n",
    "pct = int(data_df_cleaned.shape[0] * .2)\n",
    "bootstrapping_data = data_df_cleaned[:pct]"
   ]
  },
  {
   "cell_type": "markdown",
   "metadata": {},
   "source": [
    "Sub-classing the *Pytorch* Dataset class, we will create a dataset from our Dataframe. We extract four elements:\n",
    "\n",
    "* The user code\n",
    "* The movie code\n",
    "* The rating\n",
    "* The preference"
   ]
  },
  {
   "cell_type": "code",
   "execution_count": 9,
   "metadata": {
    "ExecuteTime": {
     "end_time": "2020-02-12T06:26:03.278216Z",
     "start_time": "2020-02-12T06:26:03.268903Z"
    }
   },
   "outputs": [],
   "source": [
    "# local\n",
    "class MovieLens(Dataset):\n",
    "    def __init__(self, df, transform=None):\n",
    "        self.df = df\n",
    "        self.transform = transform\n",
    "    \n",
    "    def __len__(self):\n",
    "        return len(self.df)\n",
    "\n",
    "    def __getitem__(self, idx):\n",
    "        user = self.df['user_code'].iloc[idx]\n",
    "        item = self.df['movie_code'].iloc[idx]\n",
    "        rating = self.df['rating'].iloc[idx] \n",
    "        preference = self.df['preference'].iloc[idx] \n",
    "        return (user, item, rating, preference)"
   ]
  },
  {
   "cell_type": "markdown",
   "metadata": {},
   "source": [
    "Create the Pytorch Dataset and DataLoader that we will use. Batch size should always be `1` for online training."
   ]
  },
  {
   "cell_type": "code",
   "execution_count": 10,
   "metadata": {
    "ExecuteTime": {
     "end_time": "2020-02-12T06:26:03.287248Z",
     "start_time": "2020-02-12T06:26:03.279187Z"
    }
   },
   "outputs": [],
   "source": [
    "# local\n",
    "data_set = MovieLens(bootstrapping_data)\n",
    "data_loader = DataLoader(data_set, batch_size=512, shuffle=False)"
   ]
  },
  {
   "cell_type": "code",
   "execution_count": 11,
   "metadata": {
    "ExecuteTime": {
     "end_time": "2020-02-12T06:26:03.312422Z",
     "start_time": "2020-02-12T06:26:03.288238Z"
    }
   },
   "outputs": [
    {
     "data": {
      "text/plain": [
       "torch.Size([512, 1, 1])"
      ]
     },
     "execution_count": 11,
     "metadata": {},
     "output_type": "execute_result"
    }
   ],
   "source": [
    "u, i , _, _ = next(iter(data_loader))\n",
    "res = net(u.to(device), i.to(device))\n",
    "\n",
    "res.shape"
   ]
  },
  {
   "cell_type": "markdown",
   "metadata": {},
   "source": [
    "Let us now use the *batch_fit()* method of the *Step* trainer to bootstrap our model. "
   ]
  },
  {
   "cell_type": "code",
   "execution_count": 12,
   "metadata": {
    "ExecuteTime": {
     "end_time": "2020-02-12T06:26:08.565579Z",
     "start_time": "2020-02-12T06:26:03.313506Z"
    }
   },
   "outputs": [
    {
     "name": "stderr",
     "output_type": "stream",
     "text": [
      "100%|██████████| 89/89 [00:05<00:00, 16.99it/s]\n"
     ]
    }
   ],
   "source": [
    "# local\n",
    "model.batch_fit(data_loader)"
   ]
  },
  {
   "cell_type": "markdown",
   "metadata": {},
   "source": [
    "Then, to simulate streaming we get the remaining data and create a different data set."
   ]
  },
  {
   "cell_type": "code",
   "execution_count": 13,
   "metadata": {
    "ExecuteTime": {
     "end_time": "2020-02-12T06:26:08.659631Z",
     "start_time": "2020-02-12T06:26:08.567509Z"
    }
   },
   "outputs": [],
   "source": [
    "# local\n",
    "data_df_step = data_df_cleaned.drop(bootstrapping_data.index)\n",
    "data_df_step = data_df_step.reset_index(drop=True)\n",
    "data_df_step.head()\n",
    "\n",
    "# create the DataLoader\n",
    "stream_data_set = MovieLens(data_df_step)\n",
    "stream_data_loader = DataLoader(stream_data_set, batch_size=1, shuffle=False)"
   ]
  },
  {
   "cell_type": "markdown",
   "metadata": {},
   "source": [
    "Simulate the stream..."
   ]
  },
  {
   "cell_type": "code",
   "execution_count": 14,
   "metadata": {
    "ExecuteTime": {
     "end_time": "2020-02-12T07:26:34.197791Z",
     "start_time": "2020-02-12T06:26:08.661469Z"
    }
   },
   "outputs": [
    {
     "name": "stderr",
     "output_type": "stream",
     "text": [
      "100%|██████████| 181048/181048 [1:00:25<00:00, 49.94it/s]\n"
     ]
    }
   ],
   "source": [
    "# local\n",
    "k = 10 # we keep only the top 10 recommendations\n",
    "recalls = []\n",
    "known_users = []\n",
    "\n",
    "with tqdm(total=len(stream_data_loader)) as pbar:\n",
    "    for idx, (user, item, rtng, pref) in enumerate(stream_data_loader):\n",
    "        itr = idx + 1\n",
    "        if user.item() in known_users:\n",
    "            predictions = model.predict(user, k)\n",
    "            recall = recall_at_k(predictions.tolist(), item.tolist(), k)\n",
    "            recalls.append(recall)\n",
    "            model.step(user, item, rtng, pref)\n",
    "        else:\n",
    "            model.step(user, item, rtng, pref)\n",
    "            \n",
    "        known_users.append(user.item())\n",
    "        pbar.update(1)"
   ]
  },
  {
   "cell_type": "markdown",
   "metadata": {},
   "source": [
    "Last but not least, we visualize the results of the recall@10 metric, using a moving average window of 5k elements. "
   ]
  },
  {
   "cell_type": "code",
   "execution_count": 15,
   "metadata": {
    "ExecuteTime": {
     "end_time": "2020-02-12T07:26:34.500889Z",
     "start_time": "2020-02-12T07:26:34.199534Z"
    }
   },
   "outputs": [
    {
     "data": {
      "text/plain": [
       "[<matplotlib.lines.Line2D at 0x7f811f94a730>]"
      ]
     },
     "execution_count": 15,
     "metadata": {},
     "output_type": "execute_result"
    },
    {
     "data": {
      "image/png": "[encoded data removed]",
      "text/plain": [
       "<Figure size 432x288 with 1 Axes>"
      ]
     },
     "metadata": {
      "needs_background": "light"
     },
     "output_type": "display_data"
    }
   ],
   "source": [
    "# local\n",
    "avgs = moving_avg(recalls, 5000)\n",
    "\n",
    "plt.title('Recall@10')\n",
    "plt.xlabel('Iterations')\n",
    "plt.ylabel('Metric')\n",
    "plt.ylim(0., .1)\n",
    "plt.plot(avgs)"
   ]
  },
  {
   "cell_type": "markdown",
   "metadata": {},
   "source": [
    "Finally, save the model's weights."
   ]
  },
  {
   "cell_type": "code",
   "execution_count": 16,
   "metadata": {
    "ExecuteTime": {
     "end_time": "2020-02-12T07:26:34.526954Z",
     "start_time": "2020-02-12T07:26:34.501839Z"
    }
   },
   "outputs": [],
   "source": [
    "# local\n",
    "model.save(os.path.join('artefacts', 'positive_step.pt'))"
   ]
  }
 ],
 "metadata": {
  "kernelspec": {
   "display_name": "Python [conda env:cf_step]",
   "language": "python",
   "name": "conda-env-cf_step-py"
  },
  "language_info": {
   "codemirror_mode": {
    "name": "ipython",
    "version": 3
   },
   "file_extension": ".py",
   "mimetype": "text/x-python",
   "name": "python",
   "nbconvert_exporter": "python",
   "pygments_lexer": "ipython3",
   "version": "3.8.1"
  },
  "varInspector": {
   "cols": {
    "lenName": 16,
    "lenType": 16,
    "lenVar": 40
   },
   "kernels_config": {
    "python": {
     "delete_cmd_postfix": "",
     "delete_cmd_prefix": "del ",
     "library": "var_list.py",
     "varRefreshCmd": "print(var_dic_list())"
    },
    "r": {
     "delete_cmd_postfix": ") ",
     "delete_cmd_prefix": "rm(",
     "library": "var_list.r",
     "varRefreshCmd": "cat(var_dic_list()) "
    }
   },
   "position": {
    "height": "585px",
    "left": "1492px",
    "right": "20px",
    "top": "120px",
    "width": "350px"
   },
   "types_to_exclude": [
    "module",
    "function",
    "builtin_function_or_method",
    "instance",
    "_Feature"
   ],
   "window_display": false
  }
 },
 "nbformat": 4,
 "nbformat_minor": 2
}
