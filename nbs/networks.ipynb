{
 "cells": [
  {
   "cell_type": "code",
   "execution_count": null,
   "metadata": {},
   "outputs": [],
   "source": [
    "# default_exp networks"
   ]
  },
  {
   "cell_type": "markdown",
   "metadata": {},
   "source": [
    "# Networks\n",
    "\n",
    "> Common neural network architectures for *Collaborative Filtering*."
   ]
  },
  {
   "cell_type": "code",
   "execution_count": null,
   "metadata": {},
   "outputs": [],
   "source": [
    "# hide\n",
    "from nbdev.showdoc import *"
   ]
  },
  {
   "cell_type": "code",
   "execution_count": null,
   "metadata": {},
   "outputs": [],
   "source": [
    "# export\n",
    "import torch\n",
    "import torch.nn as nn\n",
    "\n",
    "from torch import tensor"
   ]
  },
  {
   "cell_type": "code",
   "execution_count": null,
   "metadata": {},
   "outputs": [],
   "source": [
    "# export\n",
    "class SimpleCF(nn.Module):\n",
    "    def __init__(self, n_users, n_items, factors):\n",
    "        super().__init__()\n",
    "        self.user_embeddings = nn.Embedding(n_users, factors)\n",
    "        self.user_embeddings.weight.data.normal_(0., .1)\n",
    "        self.item_embeddings = nn.Embedding(n_items, factors)\n",
    "        self.item_embeddings.weight.data.normal_(0., .1)\n",
    "\n",
    "    def forward(self, u, i):\n",
    "        user_embedding = self.user_embeddings(u)\n",
    "        item_embedding = self.item_embeddings(i)\n",
    "        rating = torch.matmul(user_embedding, item_embedding.transpose(0, 1))\n",
    "        return rating"
   ]
  }
 ],
 "metadata": {
  "kernelspec": {
   "display_name": "Python [conda env:cfstep]",
   "language": "python",
   "name": "conda-env-cfstep-py"
  }
 },
 "nbformat": 4,
 "nbformat_minor": 2
}
