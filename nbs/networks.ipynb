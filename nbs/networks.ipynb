{
 "cells": [
  {
   "cell_type": "code",
   "execution_count": null,
   "metadata": {},
   "outputs": [],
   "source": [
    "# default_exp networks"
   ]
  },
  {
   "cell_type": "code",
   "execution_count": null,
   "metadata": {},
   "outputs": [],
   "source": [
    "# hide\n",
    "from nbdev.showdoc import *"
   ]
  },
  {
   "cell_type": "code",
   "execution_count": null,
   "metadata": {},
   "outputs": [],
   "source": [
    "# export\n",
    "import torch\n",
    "import torch.nn as nn\n",
    "\n",
    "from torch import tensor"
   ]
  },
  {
   "cell_type": "markdown",
   "metadata": {},
   "source": [
    "# Networks\n",
    "\n",
    "> Common neural network architectures for *Collaborative Filtering*."
   ]
  },
  {
   "cell_type": "markdown",
   "metadata": {},
   "source": [
    "# Overview\n",
    "\n",
    "This package implements several neural network architectures that can be used to build recommendation systems. Users of the library can add or define their own implementations or use the existing ones. There are two layers that every architecture should define:\n",
    "\n",
    "* **user_embeddings**: The user embedding matrix\n",
    "* **item_embeddings**: The item embedding matrix\n",
    "\n",
    "Every implementation should be a subclass of `torch.nn.Module`."
   ]
  },
  {
   "cell_type": "markdown",
   "metadata": {},
   "source": [
    "## Simple Collaborative Filtering\n",
    "\n",
    "This architecture is the simplest one to implement *Collaborative Filtering*. It only defines the embedding matrices for users and items and the final rating is computed by the dot product of the corresponding rows."
   ]
  },
  {
   "cell_type": "code",
   "execution_count": null,
   "metadata": {},
   "outputs": [],
   "source": [
    "# export\n",
    "class SimpleCF(nn.Module):\n",
    "    def __init__(self, n_users: int, n_items: int, factors: int = 16,\n",
    "                 init: torch.nn.init = torch.nn.init.normal_, **kwargs):\n",
    "        super().__init__()\n",
    "        self.user_embeddings = nn.Embedding(n_users, factors)\n",
    "        init(self.user_embeddings.weight.data, **kwargs)\n",
    "        self.item_embeddings = nn.Embedding(n_items, factors)\n",
    "        init(self.item_embeddings.weight.data, **kwargs)\n",
    "\n",
    "    def forward(self, u: torch.tensor, i: torch.tensor) -> torch.tensor:\n",
    "        user_embedding = self.user_embeddings(u)\n",
    "        item_embedding = self.item_embeddings(i)\n",
    "        rating = torch.matmul(user_embedding, item_embedding.transpose(0, 1))\n",
    "        return rating"
   ]
  },
  {
   "cell_type": "markdown",
   "metadata": {},
   "source": [
    "Arguments:\n",
    "\n",
    "* n_users (int): The number of unique users\n",
    "* n_items (int): The number of unique items\n",
    "* factors (int): The dimension of the embedding space\n",
    "* init (torch.nn.init): The initialization method of the embedding matrices - default: torch.nn.init.normal_"
   ]
  },
  {
   "cell_type": "code",
   "execution_count": null,
   "metadata": {},
   "outputs": [
    {
     "data": {
      "text/plain": [
       "tensor([[0.0055]], grad_fn=<MmBackward>)"
      ]
     },
     "execution_count": null,
     "metadata": {},
     "output_type": "execute_result"
    }
   ],
   "source": [
    "# initialize the model with 100 users, 50 items and a 16-dimensional embedding space\n",
    "model = SimpleCF(100, 50, 16, mean=0., std=.1)\n",
    "\n",
    "# predict the rating that user 3 would give to item 33\n",
    "model(torch.tensor([2]), torch.tensor([32]))"
   ]
  }
 ],
 "metadata": {
  "kernelspec": {
   "display_name": "Python [conda env:cfstep]",
   "language": "python",
   "name": "conda-env-cfstep-py"
  }
 },
 "nbformat": 4,
 "nbformat_minor": 2
}
