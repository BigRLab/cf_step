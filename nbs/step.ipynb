{
 "cells": [
  {
   "cell_type": "code",
   "execution_count": 1,
   "metadata": {
    "ExecuteTime": {
     "end_time": "2020-02-11T13:44:07.972243Z",
     "start_time": "2020-02-11T13:44:07.970082Z"
    }
   },
   "outputs": [],
   "source": [
    "# default_exp step"
   ]
  },
  {
   "cell_type": "code",
   "execution_count": 2,
   "metadata": {
    "ExecuteTime": {
     "end_time": "2020-02-11T13:44:08.360215Z",
     "start_time": "2020-02-11T13:44:08.199066Z"
    }
   },
   "outputs": [],
   "source": [
    "# hide\n",
    "from nbdev.showdoc import *"
   ]
  },
  {
   "cell_type": "code",
   "execution_count": 3,
   "metadata": {
    "ExecuteTime": {
     "end_time": "2020-02-11T13:44:08.808216Z",
     "start_time": "2020-02-11T13:44:08.543533Z"
    }
   },
   "outputs": [],
   "source": [
    "# export\n",
    "import torch\n",
    "import numpy as np\n",
    "\n",
    "from abc import ABCMeta\n",
    "from abc import abstractmethod\n",
    "from typing import Callable\n",
    "from tqdm import tqdm"
   ]
  },
  {
   "cell_type": "markdown",
   "metadata": {},
   "source": [
    "# Step\n",
    "\n",
    "> *Incremental Collaborative Filtering* algorithms."
   ]
  },
  {
   "cell_type": "markdown",
   "metadata": {},
   "source": [
    "## Step Base\n",
    "\n",
    "This class defines the interface that every `Step` module should implement. Namely, each class should implement five methods:\n",
    "\n",
    "* `batch_fit`: To support batch training\n",
    "* `step`: To support incremental learning\n",
    "* `predict`: To offer recommendations\n",
    "* `save`: To save the model parameters\n",
    "* `load`: To load the model parameters"
   ]
  },
  {
   "cell_type": "code",
   "execution_count": 4,
   "metadata": {
    "ExecuteTime": {
     "end_time": "2020-02-11T13:44:13.362465Z",
     "start_time": "2020-02-11T13:44:13.358441Z"
    }
   },
   "outputs": [],
   "source": [
    "# export\n",
    "class StepBase:\n",
    "    \"\"\"Defines the interface that all step models here expose.\"\"\"\n",
    "    __metaclass__ = ABCMeta\n",
    "    \n",
    "    @abstractmethod\n",
    "    def batch_fit(self, data_loader: torch.utils.data.DataLoader, epochs: int):\n",
    "        \"\"\"Trains the model on a batch of user-item interactions.\"\"\"\n",
    "        pass\n",
    "    \n",
    "    @abstractmethod\n",
    "    def step(self, user: torch.tensor, item: torch.tensor, \n",
    "             rating: torch.tensor, preference: torch.tensor):\n",
    "        \"\"\"Trains the model incrementally.\"\"\"\n",
    "        pass\n",
    "    \n",
    "    @abstractmethod\n",
    "    def predict(self, user: torch.tensor, k: int):\n",
    "        \"\"\"Recommends the top-k items to a specific user.\"\"\"\n",
    "        pass\n",
    "    \n",
    "    @abstractmethod\n",
    "    def save(self, path: str):\n",
    "        \"\"\"Saves the model parameters to the given path.\"\"\"\n",
    "        pass\n",
    "    \n",
    "    @abstractmethod\n",
    "    def load(self, path: str):\n",
    "        \"\"\"Loads the model parameters from a given path.\"\"\"\n",
    "        pass"
   ]
  },
  {
   "cell_type": "markdown",
   "metadata": {},
   "source": [
    "## Step\n",
    "\n",
    "The step class implements the basic *Incremental Collaborative Filtering* recommender system."
   ]
  },
  {
   "cell_type": "code",
   "execution_count": null,
   "metadata": {},
   "outputs": [],
   "source": [
    "# export\n",
    "class Step(StepBase):\n",
    "    \"\"\"Incremental and batch training of recommender systems.\"\"\"\n",
    "    def __init__(self, model: torch.nn.Module, objective: Callable,\n",
    "                 optimizer: Callable, conf_func: Callable = lambda x: 1,\n",
    "                 device: str = 'cpu'):\n",
    "        self.model = model.to(device)\n",
    "        self.objective = objective\n",
    "        self.optimizer = optimizer\n",
    "        self.conf_func = conf_func\n",
    "        self.device = device\n",
    "\n",
    "        # check if the user has provided user and item embeddings\n",
    "        assert self.model.user_embeddings, 'User embedding matrix could not be found.'\n",
    "        assert self.model.item_embeddings, 'Item embedding matrix could not be found.'\n",
    "\n",
    "    @property\n",
    "    def user_embeddings(self):\n",
    "        return self.model.user_embeddings\n",
    "\n",
    "    @property\n",
    "    def item_embeddings(self):\n",
    "        return self.model.item_embeddings\n",
    "\n",
    "    def batch_fit(self, data_loader: torch.utils.data.DataLoader, epochs: int = 1):\n",
    "        \"\"\"Trains the model on a batch of user-item interactions.\"\"\"\n",
    "        self.model.train()\n",
    "        for epoch in range(epochs):\n",
    "            with tqdm(total=len(data_loader)) as pbar:\n",
    "                for _, (users, items, ratings, preferences) in enumerate(data_loader):\n",
    "                    users.to(self.device)\n",
    "                    items.to(self.device)\n",
    "                    ratings.to(self.device)\n",
    "                    preferences.to(self.device)\n",
    "                    \n",
    "                    predictions = self.model(users, items)\n",
    "                    conf = self.conf_func(ratings)\n",
    "                    loss = (conf * self.objective(predictions, preferences)).mean()\n",
    "                    loss.backward()\n",
    "                    self.optimizer.step()\n",
    "                    self.optimizer.zero_grad()\n",
    "                    pbar.update(1)\n",
    "\n",
    "    def step(self, user: torch.tensor, item: torch.tensor, \n",
    "             rating: torch.tensor = None, preference: torch.tensor = None):\n",
    "        \"\"\"Trains the model incrementally.\"\"\"\n",
    "        self.model.train()\n",
    "        \n",
    "        user.to(self.device)\n",
    "        item.to(self.device)\n",
    "        rating.to(self.device)\n",
    "        preference.to(self.device)\n",
    "        \n",
    "        prediction = self.model(user, item)\n",
    "        conf = self.conf_func(rating)\n",
    "        loss = conf * self.objective(prediction, preference)\n",
    "        loss.backward()\n",
    "        self.optimizer.step()\n",
    "        self.optimizer.zero_grad()\n",
    "\n",
    "    def predict(self, user: torch.tensor, k:int = 10) -> torch.tensor:\n",
    "        \"\"\"Recommends the top-k items to a specific user.\"\"\"\n",
    "        self.model.eval()\n",
    "        user.to(self.device)\n",
    "        user_embedding = self.user_embeddings(user)\n",
    "        item_embeddings = self.item_embeddings.weight\n",
    "        score = item_embeddings @ user_embedding.transpose(0, 1)\n",
    "        predictions = score.squeeze().argsort()[-k:]\n",
    "        return predictions.cpu()\n",
    "\n",
    "    def save(self, path: str):\n",
    "        \"\"\"Saves the model parameters to the given path.\"\"\"\n",
    "        torch.save(self.model.state_dict(), path)\n",
    "\n",
    "    def load(self, path: str):\n",
    "        \"\"\"Loads the model parameters from a given path.\"\"\"\n",
    "        self.model.load_state_dict(torch.load(path))"
   ]
  },
  {
   "cell_type": "markdown",
   "metadata": {},
   "source": [
    "Arguments:\n",
    "\n",
    "* model (torch.nn.Module): The neural network architecture\n",
    "* objective (Callable): The objective function\n",
    "* optimizer (Callable): The method used to optimize the objective function. Usually a `torch.optim` loss function\n",
    "* conf_func (Callable): A method that converts implicit ratings to confidence scores  "
   ]
  },
  {
   "cell_type": "code",
   "execution_count": null,
   "metadata": {},
   "outputs": [],
   "source": [
    "show_doc(Step.batch_fit)"
   ]
  },
  {
   "cell_type": "code",
   "execution_count": null,
   "metadata": {},
   "outputs": [],
   "source": [
    "show_doc(Step.step)"
   ]
  },
  {
   "cell_type": "code",
   "execution_count": null,
   "metadata": {},
   "outputs": [],
   "source": [
    "show_doc(Step.predict)"
   ]
  },
  {
   "cell_type": "code",
   "execution_count": null,
   "metadata": {},
   "outputs": [],
   "source": [
    "show_doc(Step.save)"
   ]
  },
  {
   "cell_type": "code",
   "execution_count": null,
   "metadata": {},
   "outputs": [],
   "source": [
    "show_doc(Step.load)"
   ]
  }
 ],
 "metadata": {
  "kernelspec": {
   "display_name": "Python [conda env:cf_step]",
   "language": "python",
   "name": "conda-env-cf_step-py"
  },
  "language_info": {
   "codemirror_mode": {
    "name": "ipython",
    "version": 3
   },
   "file_extension": ".py",
   "mimetype": "text/x-python",
   "name": "python",
   "nbconvert_exporter": "python",
   "pygments_lexer": "ipython3",
   "version": "3.8.1"
  },
  "varInspector": {
   "cols": {
    "lenName": 16,
    "lenType": 16,
    "lenVar": 40
   },
   "kernels_config": {
    "python": {
     "delete_cmd_postfix": "",
     "delete_cmd_prefix": "del ",
     "library": "var_list.py",
     "varRefreshCmd": "print(var_dic_list())"
    },
    "r": {
     "delete_cmd_postfix": ") ",
     "delete_cmd_prefix": "rm(",
     "library": "var_list.r",
     "varRefreshCmd": "cat(var_dic_list()) "
    }
   },
   "types_to_exclude": [
    "module",
    "function",
    "builtin_function_or_method",
    "instance",
    "_Feature"
   ],
   "window_display": false
  }
 },
 "nbformat": 4,
 "nbformat_minor": 2
}
