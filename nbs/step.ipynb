{
 "cells": [
  {
   "cell_type": "code",
   "execution_count": null,
   "metadata": {},
   "outputs": [],
   "source": [
    "# default_exp step"
   ]
  },
  {
   "cell_type": "markdown",
   "metadata": {},
   "source": [
    "# Step\n",
    "\n",
    "> *Incremental Collaborative Filtering* algorithms."
   ]
  },
  {
   "cell_type": "code",
   "execution_count": null,
   "metadata": {},
   "outputs": [],
   "source": [
    "# hide\n",
    "from nbdev.showdoc import *"
   ]
  },
  {
   "cell_type": "code",
   "execution_count": null,
   "metadata": {},
   "outputs": [],
   "source": [
    "# export\n",
    "from cf_step.networks import SimpleCF"
   ]
  },
  {
   "cell_type": "code",
   "execution_count": null,
   "metadata": {},
   "outputs": [],
   "source": [
    "class Step:\n",
    "    def __init__(self, model, objective, optimizer):\n",
    "        self.model = model\n",
    "        self.objective = objective\n",
    "        self.oprimizer = optimizer\n",
    "    \n",
    "    @property\n",
    "    def user_embeddings():\n",
    "        return self.model.user_embeddings\n",
    "    \n",
    "    @property\n",
    "    def item_embeddings():\n",
    "        return self.model.item_embeddings\n",
    "        \n",
    "    def batch_fit(data_loader):\n",
    "        for _, (user, item, rating, preference) in enumerate(data_loader):\n",
    "            step(user, item, rating, preference)\n",
    "    \n",
    "    def step(self, user, item, rating=None, preference=None):\n",
    "        prediction = model(user, item)\n",
    "        objective = objective(prediction, 1)\n",
    "        objective.backward()\n",
    "        optimizer.step()\n",
    "        optimizer.zero_grad()\n",
    "        \n",
    "    def predict(user, k):\n",
    "        user_embedding = self.user_embeddings(user)\n",
    "        item_embeddings = self.item_embeddings.weight\n",
    "        score = item_embeddings @ user_embedding\n",
    "        predictions = score.argsort()[-k:]\n",
    "        return predictions"
   ]
  }
 ],
 "metadata": {
  "kernelspec": {
   "display_name": "Python [conda env:cfstep]",
   "language": "python",
   "name": "conda-env-cfstep-py"
  }
 },
 "nbformat": 4,
 "nbformat_minor": 2
}
