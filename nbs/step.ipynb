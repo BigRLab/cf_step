{
 "cells": [
  {
   "cell_type": "code",
   "execution_count": null,
   "metadata": {},
   "outputs": [],
   "source": [
    "# default_exp step"
   ]
  },
  {
   "cell_type": "code",
   "execution_count": null,
   "metadata": {},
   "outputs": [],
   "source": [
    "# hide\n",
    "from nbdev.showdoc import *"
   ]
  },
  {
   "cell_type": "code",
   "execution_count": null,
   "metadata": {},
   "outputs": [],
   "source": [
    "# export\n",
    "import torch\n",
    "import numpy as np\n",
    "\n",
    "from abc import ABCMeta\n",
    "from abc import abstractmethod\n",
    "from typing import Callable\n",
    "from tqdm import tqdm"
   ]
  },
  {
   "cell_type": "markdown",
   "metadata": {},
   "source": [
    "# Step\n",
    "\n",
    "> *Incremental Collaborative Filtering* algorithms."
   ]
  },
  {
   "cell_type": "markdown",
   "metadata": {},
   "source": [
    "## Step Base\n",
    "\n",
    "This class defines the interface that every `Step` module should implement. Namely, each class should implement five methods:\n",
    "\n",
    "* `batch_fit`: To support batch training\n",
    "* `step`: To support incremental learning\n",
    "* `predict`: To offer recommendations\n",
    "* `save`: To save the model parameters\n",
    "* `load`: To load the model parameters"
   ]
  },
  {
   "cell_type": "code",
   "execution_count": null,
   "metadata": {},
   "outputs": [],
   "source": [
    "# export\n",
    "class StepBase:\n",
    "    \"\"\"Defines the interface that all step models here expose.\"\"\"\n",
    "    __metaclass__ = ABCMeta\n",
    "    \n",
    "    @abstractmethod\n",
    "    def batch_fit(self, data_loader: torch.utils.data.DataLoader, epochs: int):\n",
    "        \"\"\"Trains the model on a batch of user-item interactions.\"\"\"\n",
    "        pass\n",
    "    \n",
    "    @abstractmethod\n",
    "    def step(self, user: torch.tensor, item: torch.tensor, \n",
    "             rating: torch.tensor, preference: torch.tensor):\n",
    "        \"\"\"Trains the model incrementally.\"\"\"\n",
    "        pass\n",
    "    \n",
    "    @abstractmethod\n",
    "    def predict(self, user: torch.tensor, k: int):\n",
    "        \"\"\"Recommends the top-k items to a specific user.\"\"\"\n",
    "        pass\n",
    "    \n",
    "    @abstractmethod\n",
    "    def save(self, path: str):\n",
    "        \"\"\"Saves the model parameters to the given path.\"\"\"\n",
    "        pass\n",
    "    \n",
    "    @abstractmethod\n",
    "    def load(self, path: str):\n",
    "        \"\"\"Loads the model parameters from a given path.\"\"\"\n",
    "        pass"
   ]
  },
  {
   "cell_type": "markdown",
   "metadata": {},
   "source": [
    "## Step\n",
    "\n",
    "The step class implements the basic *Incremental Collaborative Filtering* recommender system."
   ]
  },
  {
   "cell_type": "code",
   "execution_count": null,
   "metadata": {},
   "outputs": [],
   "source": [
    "# export\n",
    "class Step(StepBase):\n",
    "    \"\"\"Incremental and batch training of recommender systems.\"\"\"\n",
    "    def __init__(self, model: torch.nn.Module, objective: Callable,\n",
    "                 optimizer: Callable, conf_func: Callable = lambda x: 1):\n",
    "        self.model = model\n",
    "        self.objective = objective\n",
    "        self.optimizer = optimizer\n",
    "        self.conf_func = conf_func\n",
    "\n",
    "        # check if the user has provided user and item embeddings\n",
    "        assert self.model.user_embeddings, 'User embedding matrix could not be found.'\n",
    "        assert self.model.item_embeddings, 'Item embedding matrix could not be found.'\n",
    "\n",
    "    @property\n",
    "    def user_embeddings(self):\n",
    "        return self.model.user_embeddings\n",
    "\n",
    "    @property\n",
    "    def item_embeddings(self):\n",
    "        return self.model.item_embeddings\n",
    "\n",
    "    def batch_fit(self, data_loader: torch.utils.data.DataLoader, epochs: int = 1):\n",
    "        \"\"\"Trains the model on a batch of user-item interactions.\"\"\"\n",
    "        self.model.train()\n",
    "        for epoch in range(epochs):\n",
    "            with tqdm(total=len(data_loader)) as pbar:\n",
    "                for _, (users, items, ratings, preferences) in enumerate(data_loader):\n",
    "                    predictions = self.model(users, items)\n",
    "                    conf = self.conf_func(ratings)\n",
    "                    loss = (conf * self.objective(predictions, preferences)).mean()\n",
    "                    loss.backward()\n",
    "                    self.optimizer.step()\n",
    "                    self.optimizer.zero_grad()\n",
    "                    pbar.update(1)\n",
    "\n",
    "    def step(self, user: torch.tensor, item: torch.tensor, \n",
    "             rating: torch.tensor = None, preference: torch.tensor = None):\n",
    "        \"\"\"Trains the model incrementally.\"\"\"\n",
    "        self.model.train()\n",
    "        prediction = self.model(user, item)\n",
    "        conf = self.conf_func(rating)\n",
    "        loss = conf * self.objective(prediction, preference)\n",
    "        loss.backward()\n",
    "        self.optimizer.step()\n",
    "        self.optimizer.zero_grad()\n",
    "\n",
    "    def predict(self, user: torch.tensor, k:int = 10) -> torch.tensor:\n",
    "        \"\"\"Recommends the top-k items to a specific user.\"\"\"\n",
    "        self.model.eval()\n",
    "        user_embedding = self.user_embeddings(user)\n",
    "        item_embeddings = self.item_embeddings.weight\n",
    "        score = item_embeddings @ user_embedding.transpose(0, 1)\n",
    "        predictions = score.squeeze().argsort()[-k:]\n",
    "        return predictions\n",
    "\n",
    "    def save(self, path: str):\n",
    "        \"\"\"Saves the model parameters to the given path.\"\"\"\n",
    "        torch.save(self.model.state_dict(), path)\n",
    "\n",
    "    def load(self, path: str):\n",
    "        \"\"\"Loads the model parameters from a given path.\"\"\"\n",
    "        self.model.load_state_dict(torch.load(path))"
   ]
  },
  {
   "cell_type": "markdown",
   "metadata": {},
   "source": [
    "Arguments:\n",
    "\n",
    "* model (torch.nn.Module): The neural network architecture\n",
    "* objective (Callable): The objective function\n",
    "* optimizer (Callable): The method used to optimize the objective function. Usually a `torch.optim` loss function\n",
    "* conf_func (Callable): A method that converts implicit ratings to confidence scores  "
   ]
  },
  {
   "cell_type": "code",
   "execution_count": null,
   "metadata": {},
   "outputs": [
    {
     "data": {
      "text/markdown": [
       "<h4 id=\"Step.batch_fit\" class=\"doc_header\"><code>Step.batch_fit</code><a href=\"__main__.py#L23\" class=\"source_link\" style=\"float:right\">[source]</a></h4>\n",
       "\n",
       "> <code>Step.batch_fit</code>(**`data_loader`**:`DataLoader`, **`epochs`**:`int`=*`1`*)\n",
       "\n",
       "Trains the model on a batch of user-item interactions."
      ],
      "text/plain": [
       "<IPython.core.display.Markdown object>"
      ]
     },
     "metadata": {},
     "output_type": "display_data"
    }
   ],
   "source": [
    "show_doc(Step.batch_fit)"
   ]
  },
  {
   "cell_type": "code",
   "execution_count": null,
   "metadata": {},
   "outputs": [
    {
     "data": {
      "text/markdown": [
       "<h4 id=\"Step.step\" class=\"doc_header\"><code>Step.step</code><a href=\"__main__.py#L37\" class=\"source_link\" style=\"float:right\">[source]</a></h4>\n",
       "\n",
       "> <code>Step.step</code>(**`user`**:`tensor`, **`item`**:`tensor`, **`rating`**:`tensor`=*`None`*, **`preference`**:`tensor`=*`None`*)\n",
       "\n",
       "Trains the model incrementally."
      ],
      "text/plain": [
       "<IPython.core.display.Markdown object>"
      ]
     },
     "metadata": {},
     "output_type": "display_data"
    }
   ],
   "source": [
    "show_doc(Step.step)"
   ]
  },
  {
   "cell_type": "code",
   "execution_count": null,
   "metadata": {},
   "outputs": [
    {
     "data": {
      "text/markdown": [
       "<h4 id=\"Step.predict\" class=\"doc_header\"><code>Step.predict</code><a href=\"__main__.py#L48\" class=\"source_link\" style=\"float:right\">[source]</a></h4>\n",
       "\n",
       "> <code>Step.predict</code>(**`user`**:`tensor`, **`k`**:`int`=*`10`*)\n",
       "\n",
       "Recommends the top-k items to a specific user."
      ],
      "text/plain": [
       "<IPython.core.display.Markdown object>"
      ]
     },
     "metadata": {},
     "output_type": "display_data"
    }
   ],
   "source": [
    "show_doc(Step.predict)"
   ]
  },
  {
   "cell_type": "code",
   "execution_count": null,
   "metadata": {},
   "outputs": [
    {
     "data": {
      "text/markdown": [
       "<h4 id=\"Step.save\" class=\"doc_header\"><code>Step.save</code><a href=\"__main__.py#L57\" class=\"source_link\" style=\"float:right\">[source]</a></h4>\n",
       "\n",
       "> <code>Step.save</code>(**`path`**:`str`)\n",
       "\n",
       "Saves the model parameters to the given path."
      ],
      "text/plain": [
       "<IPython.core.display.Markdown object>"
      ]
     },
     "metadata": {},
     "output_type": "display_data"
    }
   ],
   "source": [
    "show_doc(Step.save)"
   ]
  },
  {
   "cell_type": "code",
   "execution_count": null,
   "metadata": {},
   "outputs": [
    {
     "data": {
      "text/markdown": [
       "<h4 id=\"Step.load\" class=\"doc_header\"><code>Step.load</code><a href=\"__main__.py#L61\" class=\"source_link\" style=\"float:right\">[source]</a></h4>\n",
       "\n",
       "> <code>Step.load</code>(**`path`**:`str`)\n",
       "\n",
       "Loads the model parameters from a given path."
      ],
      "text/plain": [
       "<IPython.core.display.Markdown object>"
      ]
     },
     "metadata": {},
     "output_type": "display_data"
    }
   ],
   "source": [
    "show_doc(Step.load)"
   ]
  }
 ],
 "metadata": {
  "kernelspec": {
   "display_name": "Python [conda env:cfstep]",
   "language": "python",
   "name": "conda-env-cfstep-py"
  }
 },
 "nbformat": 4,
 "nbformat_minor": 2
}
