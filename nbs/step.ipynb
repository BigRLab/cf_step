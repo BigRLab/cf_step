{
 "cells": [
  {
   "cell_type": "code",
   "execution_count": null,
   "metadata": {},
   "outputs": [],
   "source": [
    "# default_exp step"
   ]
  },
  {
   "cell_type": "markdown",
   "metadata": {},
   "source": [
    "# Step\n",
    "\n",
    "> *Incremental Collaborative Filtering* algorithms."
   ]
  },
  {
   "cell_type": "code",
   "execution_count": null,
   "metadata": {},
   "outputs": [],
   "source": [
    "# hide\n",
    "from nbdev.showdoc import *"
   ]
  },
  {
   "cell_type": "code",
   "execution_count": null,
   "metadata": {},
   "outputs": [],
   "source": [
    "# export\n",
    "import torch\n",
    "import numpy as np\n",
    "\n",
    "from tqdm import tqdm\n",
    "from cf_step.networks import SimpleCF"
   ]
  },
  {
   "cell_type": "code",
   "execution_count": null,
   "metadata": {},
   "outputs": [],
   "source": [
    "# export\n",
    "class Step:\n",
    "    \"\"\"Incremental and batch training of recommender systems.\"\"\"\n",
    "    def __init__(self, model, objective, optimizer, conf_func=lambda x: 1):\n",
    "        self.model = model\n",
    "        self.objective = objective\n",
    "        self.optimizer = optimizer\n",
    "        self.conf_func = conf_func\n",
    "        \n",
    "        # check if the user has provided user and item embeddings\n",
    "        assert self.model.user_embeddings, 'User embedding matrix could not be found.'\n",
    "        assert self.model.item_embeddings, 'Item embedding matrix could not be found.'\n",
    "\n",
    "    @property\n",
    "    def user_embeddings(self):\n",
    "        return self.model.user_embeddings\n",
    "\n",
    "    @property\n",
    "    def item_embeddings(self):\n",
    "        return self.model.item_embeddings\n",
    "\n",
    "    def batch_fit(self, data_loader, epochs=1):\n",
    "        \"\"\"Batch fits the recommender system.\"\"\"\n",
    "        self.model.train()\n",
    "        for epoch in range(epochs):\n",
    "            with tqdm(total=len(data_loader)) as pbar:\n",
    "                for _, (users, items, ratings, preferences) in enumerate(data_loader):\n",
    "                    predictions = self.model(users, items)\n",
    "                    conf = self.conf_func(ratings)\n",
    "                    loss = (conf * self.objective(predictions, preferences)).mean()\n",
    "                    loss.backward()\n",
    "                    self.optimizer.step()\n",
    "                    self.optimizer.zero_grad()\n",
    "                    pbar.update(1)\n",
    "\n",
    "    def step(self, user, item, rating=None, preference=None):\n",
    "        \"\"\"Fits the recommender system incrementally.\"\"\"\n",
    "        self.model.train()\n",
    "        prediction = self.model(user, item)\n",
    "        conf = self.conf_func(rating)\n",
    "        loss = conf * self.objective(prediction, preference)\n",
    "        loss.backward()\n",
    "        self.optimizer.step()\n",
    "        self.optimizer.zero_grad()\n",
    "\n",
    "    def predict(self, user, k):\n",
    "        \"\"\"Recommends items to a specific user.\"\"\"\n",
    "        self.model.eval()\n",
    "        user_embedding = self.user_embeddings(user)\n",
    "        item_embeddings = self.item_embeddings.weight\n",
    "        score = item_embeddings @ user_embedding.transpose(0, 1)\n",
    "        predictions = score.squeeze().argsort()[-k:]\n",
    "        return predictions\n",
    "    \n",
    "    def save(self, path):\n",
    "        \"\"\"Saves the model parameters to the given path.\"\"\"\n",
    "        torch.save(self.model.state_dict(), path)\n",
    "        \n",
    "    def load(self, path):\n",
    "        \"\"\"Loads the model parameters from a given path.\"\"\"\n",
    "        self.model.load_state_dict(torch.load(path))"
   ]
  }
 ],
 "metadata": {
  "kernelspec": {
   "display_name": "Python [conda env:cfstep]",
   "language": "python",
   "name": "conda-env-cfstep-py"
  }
 },
 "nbformat": 4,
 "nbformat_minor": 2
}
