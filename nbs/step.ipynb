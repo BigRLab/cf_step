{
 "cells": [
  {
   "cell_type": "code",
   "execution_count": null,
   "metadata": {},
   "outputs": [],
   "source": [
    "# default_exp step"
   ]
  },
  {
   "cell_type": "markdown",
   "metadata": {},
   "source": [
    "# Step\n",
    "\n",
    "> *Incremental Collaborative Filtering* algorithms."
   ]
  },
  {
   "cell_type": "code",
   "execution_count": null,
   "metadata": {},
   "outputs": [],
   "source": [
    "# hide\n",
    "from nbdev.showdoc import *"
   ]
  },
  {
   "cell_type": "code",
   "execution_count": null,
   "metadata": {},
   "outputs": [],
   "source": [
    "# export\n",
    "import numpy as np\n",
    "import torch.tensor as tensor\n",
    "\n",
    "from tqdm import tqdm\n",
    "\n",
    "from cf_step.networks import SimpleCF"
   ]
  },
  {
   "cell_type": "code",
   "execution_count": null,
   "metadata": {},
   "outputs": [],
   "source": [
    "# export\n",
    "class Step:\n",
    "    def __init__(self, model, objective, optimizer):\n",
    "        self.model = model\n",
    "        self.objective = objective\n",
    "        self.optimizer = optimizer\n",
    "    \n",
    "    @property\n",
    "    def user_embeddings(self):\n",
    "        return self.model.user_embeddings\n",
    "    \n",
    "    @property\n",
    "    def item_embeddings(self):\n",
    "        return self.model.item_embeddings\n",
    "        \n",
    "    def batch_fit(self, data_loader, epochs=1):\n",
    "        for epoch in range(epochs):\n",
    "            with tqdm(total=len(data_loader)) as pbar:\n",
    "                for _, (users, items, ratings, preferences) in enumerate(data_loader):\n",
    "                    predictions = self.model(users, items)\n",
    "                    loss = self.objective(predictions, tensor(1)).mean()\n",
    "                    loss.backward()\n",
    "                    self.optimizer.step()\n",
    "                    self.optimizer.zero_grad()\n",
    "                    pbar.update(1)\n",
    "    \n",
    "    def step(self, user, item, rating=None, preference=None):\n",
    "        prediction = self.model(user, item)\n",
    "        loss = self.objective(prediction, 1)\n",
    "        loss.backward()\n",
    "        self.optimizer.step()\n",
    "        self.optimizer.zero_grad()\n",
    "        \n",
    "    def predict(self, user, k):\n",
    "        user_embedding = self.user_embeddings(user)\n",
    "        item_embeddings = self.item_embeddings.weight\n",
    "        score = item_embeddings @ user_embedding.transpose(0, 1)\n",
    "        predictions = score.squeeze().argsort()[-k:]\n",
    "        return predictions"
   ]
  }
 ],
 "metadata": {
  "kernelspec": {
   "display_name": "Python [conda env:cfstep]",
   "language": "python",
   "name": "conda-env-cfstep-py"
  }
 },
 "nbformat": 4,
 "nbformat_minor": 2
}
