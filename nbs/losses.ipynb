{
 "cells": [
  {
   "cell_type": "code",
   "execution_count": null,
   "metadata": {},
   "outputs": [],
   "source": [
    "# default_exp losses"
   ]
  },
  {
   "cell_type": "code",
   "execution_count": null,
   "metadata": {},
   "outputs": [],
   "source": [
    "# hide\n",
    "from nbdev.showdoc import *"
   ]
  },
  {
   "cell_type": "code",
   "execution_count": null,
   "metadata": {},
   "outputs": [],
   "source": [
    "# export\n",
    "import torch\n",
    "import torch.nn as nn\n",
    "\n",
    "from functools import update_wrapper\n",
    "from torch.nn.modules.loss import _Loss"
   ]
  },
  {
   "cell_type": "markdown",
   "metadata": {},
   "source": [
    "# Losses\n",
    "\n",
    "> Common objective (loss) functions"
   ]
  },
  {
   "cell_type": "markdown",
   "metadata": {},
   "source": [
    "## Attribution\n",
    "\n",
    "This section introduces the `FlatLoss` class. This code is, for the most part, copied by the [fast.ai](https://github.com/fastai/fastai/blob/8013797e05f0ae0d771d60ecf7cf524da591503c/fastai/layers.py) library."
   ]
  },
  {
   "cell_type": "markdown",
   "metadata": {},
   "source": [
    "## Wrappers\n",
    "\n",
    "Below we define several wrappers for well known losses that are defined and implemented in the Pytorch library. The main idea is that we need to *flatten* our prediction before we pass them accordingly to the chosen loss function."
   ]
  },
  {
   "cell_type": "code",
   "execution_count": null,
   "metadata": {},
   "outputs": [],
   "source": [
    "# export\n",
    "class FlatLoss():\n",
    "    \"\"\"Same as whatever `func` is, but with flattened input and target.\"\"\"\n",
    "    def __init__(self, func: _Loss, axis: int = -1, to_float: bool = False, \n",
    "                 is_2d: bool = False, **kwargs):\n",
    "        self.func = func(**kwargs)\n",
    "        self.axis = axis\n",
    "        self.to_float = to_float\n",
    "        self.is_2d = is_2d\n",
    "    \n",
    "        update_wrapper(self, self.func)\n",
    "\n",
    "    def __repr__(self): \n",
    "        return f'FlatLoss of {self.func}'\n",
    "    \n",
    "    @property\n",
    "    def reduction(self) -> str:\n",
    "        assert hasattr(self.func, 'reduction'), f'{self.func} does not have \"reduction\" attribute'\n",
    "        return self.func.reduction\n",
    "    \n",
    "    @reduction.setter\n",
    "    def reduction(self, reduction: str):\n",
    "        self.func.reduction = reduction\n",
    "\n",
    "    @property\n",
    "    def weight(self) -> torch.tensor:\n",
    "        assert hasattr(self.func, 'weight'), f'{self.func} does not have \"weight\" attribute'\n",
    "        return self.func.weight\n",
    "    \n",
    "    @weight.setter\n",
    "    def weight(self, weight: torch.tensor):\n",
    "        self.func.weight = weight\n",
    "\n",
    "    def __call__(self, prediction: torch.tensor, target: torch.tensor, **kwargs) -> torch.tensor:\n",
    "        prediction = prediction.transpose(self.axis, -1).contiguous()\n",
    "        target = target.transpose(self.axis, -1).contiguous()\n",
    "        \n",
    "        if self.to_float:\n",
    "            target = target.float()\n",
    "            \n",
    "        prediction = prediction.view(-1, prediction.shape[-1]) if self.is_2d else prediction.view(-1)\n",
    "        return self.func.__call__(prediction, target.view(-1), **kwargs)"
   ]
  },
  {
   "cell_type": "markdown",
   "metadata": {},
   "source": [
    "The FlatLoss class creates a callable that will do whatever the function that we pass would do, but with flattened input and target before the operation."
   ]
  },
  {
   "cell_type": "markdown",
   "metadata": {},
   "source": [
    "## Common losses"
   ]
  },
  {
   "cell_type": "code",
   "execution_count": null,
   "metadata": {},
   "outputs": [],
   "source": [
    "# export\n",
    "def FlatCrossEntropyLoss(axis: int = -1, to_float: bool = True, is_2d: bool = False, **kwargs):\n",
    "    \"\"\"Same as `nn.CrossEntropyLoss`, but with flattened input and target.\"\"\"\n",
    "    return FlatLoss(nn.CrossEntropyLoss, axis=axis, to_float=to_float, is_2d=is_2d, **kwargs)"
   ]
  },
  {
   "cell_type": "code",
   "execution_count": null,
   "metadata": {},
   "outputs": [],
   "source": [
    "# export \n",
    "def FlatBCELoss(axis: int = -1, to_float: bool = True, is_2d: bool = False, **kwargs):\n",
    "    \"\"\"Same as `nn.BCELoss`, but with flattened input and target.\"\"\"\n",
    "    return FlatLoss(nn.BCELoss, axis=axis, to_float=to_float, is_2d=is_2d, **kwargs)"
   ]
  },
  {
   "cell_type": "code",
   "execution_count": null,
   "metadata": {},
   "outputs": [],
   "source": [
    "# export\n",
    "def FlatMSELoss(axis: int = -1, to_float: bool = True, is_2d: bool = False, **kwargs):\n",
    "    \"\"\"Same as `nn.MSELoss`, but with flattened input and target.\"\"\"\n",
    "    return FlatLoss(nn.MSELoss, axis=axis, to_float=to_float, is_2d=is_2d, **kwargs)"
   ]
  }
 ],
 "metadata": {
  "kernelspec": {
   "display_name": "Python [conda env:cf_step]",
   "language": "python",
   "name": "conda-env-cf_step-py"
  }
 },
 "nbformat": 4,
 "nbformat_minor": 4
}
