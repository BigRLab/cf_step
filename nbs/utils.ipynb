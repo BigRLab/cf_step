{
 "cells": [
  {
   "cell_type": "code",
   "execution_count": null,
   "metadata": {},
   "outputs": [],
   "source": [
    "#default_exp utils"
   ]
  },
  {
   "cell_type": "markdown",
   "metadata": {},
   "source": [
    "# Utils\n",
    "\n",
    "> CF Step project utilities."
   ]
  },
  {
   "cell_type": "code",
   "execution_count": null,
   "metadata": {},
   "outputs": [],
   "source": [
    "# export\n",
    "def moving_avg(w, results):\n",
    "    cumsum, moving_avgs = [0], []\n",
    "\n",
    "    for i, x in enumerate(results, 1):\n",
    "        cumsum.append(cumsum[i-1] + x)\n",
    "        if i >= w:\n",
    "            moving_avg = (cumsum[i] - cumsum[i-w]) / w\n",
    "            moving_avgs.append(moving_avg)\n",
    "    return moving_avgs"
   ]
  }
 ],
 "metadata": {
  "kernelspec": {
   "display_name": "Python [conda env:cfstep]",
   "language": "python",
   "name": "conda-env-cfstep-py"
  }
 },
 "nbformat": 4,
 "nbformat_minor": 2
}
