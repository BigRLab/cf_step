{
 "cells": [
  {
   "cell_type": "code",
   "execution_count": null,
   "metadata": {},
   "outputs": [],
   "source": [
    "#default_exp utils"
   ]
  },
  {
   "cell_type": "markdown",
   "metadata": {},
   "source": [
    "# Utils\n",
    "\n",
    "> CF Step project utilities."
   ]
  },
  {
   "cell_type": "code",
   "execution_count": null,
   "metadata": {},
   "outputs": [],
   "source": [
    "# export\n",
    "def recall_at_k(predictions, targets, k):\n",
    "    predictions_set = set(predictions[:k])\n",
    "    targets_set = set(targets)\n",
    "    result = len(targets_set & predictions_set) / float(len(targets_set))\n",
    "    return result"
   ]
  }
 ],
 "metadata": {
  "kernelspec": {
   "display_name": "Python [conda env:cfstep]",
   "language": "python",
   "name": "conda-env-cfstep-py"
  }
 },
 "nbformat": 4,
 "nbformat_minor": 2
}
